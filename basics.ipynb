{
 "cells": [
  {
   "cell_type": "markdown",
   "metadata": {},
   "source": [
    "# String manipulations"
   ]
  },
  {
   "cell_type": "code",
   "execution_count": 2,
   "metadata": {},
   "outputs": [
    {
     "name": "stdout",
     "output_type": "stream",
     "text": [
      "a string with simple quote\n",
      "a string with double quote\n",
      "a string with triple quote\n",
      "another string with triple quote\n"
     ]
    }
   ],
   "source": [
    "single = 'a string with simple quote'\n",
    "double = \"a string with double quote\"\n",
    "triple = '''a string with triple quote'''\n",
    "another_triple = \"\"\"another string with triple quote\"\"\"\n",
    "print(single, double, triple, another_triple, sep='\\n')"
   ]
  },
  {
   "cell_type": "code",
   "execution_count": 4,
   "metadata": {},
   "outputs": [
    {
     "name": "stdout",
     "output_type": "stream",
     "text": [
      "this is an f-string: \n",
      "a string with simple quote\n",
      "a string with double quote\n",
      "a string with triple quote\n",
      "another string with triple quote\n"
     ]
    }
   ],
   "source": [
    "f_string = f\"this is an f-string: \\n{single}\\n{double}\\n{triple}\\n{another_triple}\"\n",
    "print(f_string)"
   ]
  },
  {
   "cell_type": "code",
   "execution_count": 5,
   "metadata": {},
   "outputs": [
    {
     "name": "stdout",
     "output_type": "stream",
     "text": [
      "My name is John\n"
     ]
    }
   ],
   "source": [
    "add = 'My name is ' + \"John\"\n",
    "print(add)"
   ]
  },
  {
   "cell_type": "markdown",
   "metadata": {},
   "source": [
    "# Basic types"
   ]
  },
  {
   "cell_type": "code",
   "execution_count": 32,
   "metadata": {},
   "outputs": [
    {
     "name": "stdout",
     "output_type": "stream",
     "text": [
      "strings have type <class 'str'>\n",
      "integers have type <class 'int'>\n",
      "floats have type <class 'float'>\n",
      "booleans have type <class 'bool'>\n",
      "lists have type <class 'list'>\n",
      "None has type <class 'NoneType'>\n",
      "\n",
      "empty string is a string\n",
      "0 is an integer\n",
      "0.0 is a float\n",
      "True is a boolean\n",
      "[] is a list\n"
     ]
    }
   ],
   "source": [
    "print(\"strings have type\", type(\"string\"))\n",
    "print(f\"integers have type\", type(1))\n",
    "print(f\"floats have type\", type(1.0))\n",
    "print(f\"booleans have type\", type(True))\n",
    "print(f\"lists have type\", type([]))\n",
    "print(f\"None has type\", type(None))\n",
    "print()\n",
    "\n",
    "if type(\"\") == str:\n",
    "    print(\"empty string is a string\")\n",
    "\n",
    "if type(0) == int:\n",
    "    print(\"0 is an integer\")\n",
    "    \n",
    "if type(0.0) == float:\n",
    "    print(\"0.0 is a float\")\n",
    "\n",
    "if type(True) == bool:\n",
    "    print(\"True is a boolean\")\n",
    "\n",
    "if type([]) == list:\n",
    "    print(\"[] is a list\")"
   ]
  },
  {
   "cell_type": "markdown",
   "metadata": {},
   "source": [
    "# Conditionnals"
   ]
  },
  {
   "cell_type": "markdown",
   "metadata": {},
   "source": [
    "### `True` / `False`"
   ]
  },
  {
   "cell_type": "code",
   "execution_count": 17,
   "metadata": {},
   "outputs": [
    {
     "name": "stdout",
     "output_type": "stream",
     "text": [
      "is_true is True\n",
      "not True is False\n"
     ]
    }
   ],
   "source": [
    "is_true = True\n",
    "is_false = False\n",
    "\n",
    "if is_true:\n",
    "    print(\"is_true is True\")\n",
    "\n",
    "if not True == False:\n",
    "    print(\"not True is False\")"
   ]
  },
  {
   "cell_type": "markdown",
   "metadata": {},
   "source": [
    "### Truthy / Falsy"
   ]
  },
  {
   "cell_type": "code",
   "execution_count": 18,
   "metadata": {},
   "outputs": [
    {
     "name": "stdout",
     "output_type": "stream",
     "text": [
      "1 and -1 are truthy so this will always be printed\n",
      "[0] is truthy so this will always be printed\n"
     ]
    }
   ],
   "source": [
    "if 0 or \"\" or [] or None:\n",
    "    print(\"\"\"0 and \"\" and [] and None are falsey so this will never be printed\"\"\")\n",
    "\n",
    "if 1 and -1:\n",
    "    print(\"1 and -1 are truthy so this will always be printed\")\n",
    "\n",
    "if [0]:\n",
    "    print(\"[0] is truthy so this will always be printed\")"
   ]
  },
  {
   "cell_type": "markdown",
   "metadata": {},
   "source": [
    "### `if` / `elif` / `else`"
   ]
  },
  {
   "cell_type": "code",
   "execution_count": 19,
   "metadata": {},
   "outputs": [
    {
     "name": "stdout",
     "output_type": "stream",
     "text": [
      "condition_1 is True\n"
     ]
    }
   ],
   "source": [
    "condition_1 = True\n",
    "condition_2 = False\n",
    "if condition_1:\n",
    "    print(\"condition_1 is True\")\n",
    "elif condition_2:\n",
    "    print(\"condition_2 is False and condition_2 is True\")\n",
    "else:\n",
    "    print(\"condition_1 is False and condition_2 is False\")"
   ]
  },
  {
   "cell_type": "markdown",
   "metadata": {},
   "source": [
    "### `and` / `or`"
   ]
  },
  {
   "cell_type": "code",
   "execution_count": 20,
   "metadata": {},
   "outputs": [
    {
     "name": "stdout",
     "output_type": "stream",
     "text": [
      "either condition_1 or condition_2 is True\n"
     ]
    }
   ],
   "source": [
    "condition_1 = True\n",
    "condition_2 = False\n",
    "\n",
    "if condition_1 and condition_2:\n",
    "    print(\"both condition_1 and condition_2 are True\")\n",
    "\n",
    "if condition_1 or condition_2:\n",
    "    print(\"either condition_1 or condition_2 is True\")"
   ]
  },
  {
   "cell_type": "markdown",
   "metadata": {},
   "source": [
    "# Exceptions"
   ]
  },
  {
   "cell_type": "markdown",
   "metadata": {},
   "source": [
    "### Raise an exception"
   ]
  },
  {
   "cell_type": "code",
   "execution_count": 34,
   "metadata": {},
   "outputs": [
    {
     "ename": "RuntimeError",
     "evalue": "I'm raising an exception",
     "output_type": "error",
     "traceback": [
      "\u001b[0;31m---------------------------------------------------------------------------\u001b[0m",
      "\u001b[0;31mRuntimeError\u001b[0m                              Traceback (most recent call last)",
      "\u001b[0;32m/var/folders/hf/mz3wk6nd28s_0ztpqhm7swzc0000gn/T/ipykernel_48783/216450360.py\u001b[0m in \u001b[0;36m<module>\u001b[0;34m\u001b[0m\n\u001b[0;32m----> 1\u001b[0;31m \u001b[0;32mraise\u001b[0m \u001b[0mRuntimeError\u001b[0m\u001b[0;34m(\u001b[0m\u001b[0;34m\"I'm raising an exception\"\u001b[0m\u001b[0;34m)\u001b[0m\u001b[0;34m\u001b[0m\u001b[0;34m\u001b[0m\u001b[0m\n\u001b[0m\u001b[1;32m      2\u001b[0m \u001b[0mprint\u001b[0m\u001b[0;34m(\u001b[0m\u001b[0;34m\"this will never be printed\"\u001b[0m\u001b[0;34m)\u001b[0m\u001b[0;34m\u001b[0m\u001b[0;34m\u001b[0m\u001b[0m\n",
      "\u001b[0;31mRuntimeError\u001b[0m: I'm raising an exception"
     ]
    }
   ],
   "source": [
    "# NBVAL_RAISES_EXCEPTION\n",
    "raise RuntimeError(\"I'm raising an exception\")\n",
    "print(\"this will never be printed\")"
   ]
  },
  {
   "cell_type": "markdown",
   "metadata": {},
   "source": [
    "### Catch exceptions"
   ]
  },
  {
   "cell_type": "code",
   "execution_count": 40,
   "metadata": {},
   "outputs": [
    {
     "name": "stdout",
     "output_type": "stream",
     "text": [
      "The exception was caught: This is a runtime error\n",
      "The program continues\n"
     ]
    }
   ],
   "source": [
    "try:\n",
    "    raise RuntimeError(\"This is a runtime error\")\n",
    "    print(\"This will not be printed\")\n",
    "except RuntimeError as e:\n",
    "    print(\"The exception was caught:\", e)\n",
    "\n",
    "print(\"The program continues\")"
   ]
  },
  {
   "cell_type": "markdown",
   "metadata": {},
   "source": [
    "### Uncought exceptions"
   ]
  },
  {
   "cell_type": "code",
   "execution_count": 41,
   "metadata": {},
   "outputs": [
    {
     "ename": "ZeroDivisionError",
     "evalue": "division by zero",
     "output_type": "error",
     "traceback": [
      "\u001b[0;31m---------------------------------------------------------------------------\u001b[0m",
      "\u001b[0;31mZeroDivisionError\u001b[0m                         Traceback (most recent call last)",
      "\u001b[0;32m/var/folders/hf/mz3wk6nd28s_0ztpqhm7swzc0000gn/T/ipykernel_48783/979020848.py\u001b[0m in \u001b[0;36m<module>\u001b[0;34m\u001b[0m\n\u001b[1;32m      1\u001b[0m \u001b[0;32mtry\u001b[0m\u001b[0;34m:\u001b[0m\u001b[0;34m\u001b[0m\u001b[0;34m\u001b[0m\u001b[0m\n\u001b[0;32m----> 2\u001b[0;31m     \u001b[0mresult\u001b[0m \u001b[0;34m=\u001b[0m \u001b[0;36m1\u001b[0m \u001b[0;34m/\u001b[0m \u001b[0;36m0\u001b[0m\u001b[0;34m\u001b[0m\u001b[0;34m\u001b[0m\u001b[0m\n\u001b[0m\u001b[1;32m      3\u001b[0m \u001b[0;32mexcept\u001b[0m \u001b[0mRuntimeError\u001b[0m\u001b[0;34m:\u001b[0m\u001b[0;34m\u001b[0m\u001b[0;34m\u001b[0m\u001b[0m\n\u001b[1;32m      4\u001b[0m     \u001b[0mprint\u001b[0m\u001b[0;34m(\u001b[0m\u001b[0;34m\"The exception type does not match, this will never be printed\"\u001b[0m\u001b[0;34m)\u001b[0m\u001b[0;34m\u001b[0m\u001b[0;34m\u001b[0m\u001b[0m\n",
      "\u001b[0;31mZeroDivisionError\u001b[0m: division by zero"
     ]
    }
   ],
   "source": [
    "# NBVAL_RAISES_EXCEPTION\n",
    "try:\n",
    "    result = 1 / 0\n",
    "except RuntimeError:\n",
    "    print(\"The exception type does not match, this will never be printed\")"
   ]
  },
  {
   "cell_type": "markdown",
   "metadata": {},
   "source": [
    "### Multiple exception types"
   ]
  },
  {
   "cell_type": "code",
   "execution_count": 48,
   "metadata": {},
   "outputs": [
    {
     "name": "stdout",
     "output_type": "stream",
     "text": [
      "RuntimeError, ZeroDivisionError and TypeError are caught\n"
     ]
    }
   ],
   "source": [
    "try:\n",
    "    divide_by_zero = 1 / 0\n",
    "    add = 1 + \"2\"\n",
    "except (RuntimeError, ZeroDivisionError, TypeError):\n",
    "    print(\"RuntimeError, ZeroDivisionError and TypeError are caught\")"
   ]
  },
  {
   "cell_type": "markdown",
   "metadata": {},
   "source": [
    "### Catch all"
   ]
  },
  {
   "cell_type": "code",
   "execution_count": 49,
   "metadata": {},
   "outputs": [
    {
     "name": "stdout",
     "output_type": "stream",
     "text": [
      "Every possiple exception is caught\n"
     ]
    }
   ],
   "source": [
    "try:\n",
    "    1 / 0\n",
    "except Exception:\n",
    "    print(\"Every possiple exception is caught\")"
   ]
  }
 ],
 "metadata": {
  "kernelspec": {
   "display_name": "Python 3",
   "language": "python",
   "name": "python3"
  },
  "language_info": {
   "codemirror_mode": {
    "name": "ipython",
    "version": 3
   },
   "file_extension": ".py",
   "mimetype": "text/x-python",
   "name": "python",
   "nbconvert_exporter": "python",
   "pygments_lexer": "ipython3",
   "version": "3.10.1"
  }
 },
 "nbformat": 4,
 "nbformat_minor": 2
}
