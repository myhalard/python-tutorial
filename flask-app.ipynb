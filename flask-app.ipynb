{
 "cells": [
  {
   "cell_type": "markdown",
   "metadata": {},
   "source": [
    "# Flask\n",
    "\n",
    "## Read the file flask-app.py\n",
    "\n",
    "## Open a terminal. Run the following commands:\n",
    "\n",
    "`python3 -m venv .flask_venv`\n",
    "\n",
    "`source .flask_venv/bin/activate`\n",
    "\n",
    "`pip install flask`\n",
    "\n",
    "`python flask-app.py`"
   ]
  },
  {
   "cell_type": "code",
   "execution_count": 1,
   "metadata": {
    "vscode": {
     "languageId": "shellscript"
    }
   },
   "outputs": [
    {
     "name": "stdout",
     "output_type": "stream",
     "text": [
      "Hello, Flask!\n"
     ]
    }
   ],
   "source": [
    "# GET /\n",
    "curl http://127.0.0.1:5000"
   ]
  },
  {
   "cell_type": "code",
   "execution_count": 2,
   "metadata": {
    "vscode": {
     "languageId": "shellscript"
    }
   },
   "outputs": [
    {
     "name": "stdout",
     "output_type": "stream",
     "text": [
      "{\n",
      "  \"item_id\": 42,\n",
      "  \"message\": \"Item retrieved\"\n",
      "}\n"
     ]
    }
   ],
   "source": [
    "# GET /items/42\n",
    "curl http://127.0.0.1:5000/items/42"
   ]
  },
  {
   "cell_type": "code",
   "execution_count": 3,
   "metadata": {
    "vscode": {
     "languageId": "shellscript"
    }
   },
   "outputs": [
    {
     "name": "stdout",
     "output_type": "stream",
     "text": [
      "{\n",
      "  \"item\": {\n",
      "    \"key1\": \"value1\",\n",
      "    \"key2\": \"value2\"\n",
      "  },\n",
      "  \"message\": \"Item created\"\n",
      "}\n"
     ]
    }
   ],
   "source": [
    "# POST /items\n",
    "curl -X POST -H \"Content-Type: application/json\" -d '{\"key1\":\"value1\", \"key2\":\"value2\"}' http://127.0.0.1:5000/items"
   ]
  },
  {
   "cell_type": "code",
   "execution_count": 4,
   "metadata": {
    "vscode": {
     "languageId": "shellscript"
    }
   },
   "outputs": [
    {
     "name": "stdout",
     "output_type": "stream",
     "text": [
      "{\n",
      "  \"item\": {\n",
      "    \"key1\": \"value1\",\n",
      "    \"key2\": \"value2\"\n",
      "  },\n",
      "  \"item_id\": 42,\n",
      "  \"message\": \"Item updated\"\n",
      "}\n"
     ]
    }
   ],
   "source": [
    "# PUT /items/42\n",
    "curl -X PUT -H \"Content-Type: application/json\" -d '{\"key1\":\"value1\", \"key2\":\"value2\"}' http://127.0.0.1:5000/items/42"
   ]
  },
  {
   "cell_type": "code",
   "execution_count": 5,
   "metadata": {
    "vscode": {
     "languageId": "shellscript"
    }
   },
   "outputs": [
    {
     "name": "stdout",
     "output_type": "stream",
     "text": [
      "{\n",
      "  \"item_id\": 42,\n",
      "  \"message\": \"Item deleted\"\n",
      "}\n"
     ]
    }
   ],
   "source": [
    "# DELETE /items/42\n",
    "curl -X DELETE http://127.0.0.1:5000/items/42"
   ]
  },
  {
   "cell_type": "markdown",
   "metadata": {},
   "source": [
    "## In the terminal hit Ctrl-C to stop the flask server\n",
    "\n",
    "## Run the following commands to cleanup:\n",
    "\n",
    "`deactivate`\n",
    "\n",
    "`rm -r .flask_venv`\n"
   ]
  }
 ],
 "metadata": {
  "kernelspec": {
   "display_name": "Bash",
   "language": "bash",
   "name": "bash"
  },
  "language_info": {
   "codemirror_mode": "shell",
   "file_extension": ".sh",
   "mimetype": "text/x-sh",
   "name": "bash"
  }
 },
 "nbformat": 4,
 "nbformat_minor": 2
}
