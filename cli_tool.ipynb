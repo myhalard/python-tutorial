{
 "cells": [
  {
   "cell_type": "markdown",
   "metadata": {},
   "source": [
    "# Click and setuptools"
   ]
  },
  {
   "cell_type": "code",
   "execution_count": 13,
   "metadata": {
    "vscode": {
     "languageId": "shellscript"
    }
   },
   "outputs": [
    {
     "name": "stdout",
     "output_type": "stream",
     "text": [
      "(.venv) \n",
      "(.click_venv) \n",
      "Collecting click\n",
      "  Using cached click-8.1.7-py3-none-any.whl (97 kB)\n",
      "Installing collected packages: click\n",
      "Successfully installed click-8.1.7\n",
      "\u001b[33mWARNING: You are using pip version 21.2.4; however, version 24.2 is available.\n",
      "You should consider upgrading via the '/Users/marcyervant/Documents/repositories/python-tutorial/.click_venv/bin/python3 -m pip install --upgrade pip' command.\u001b[0m\n",
      "(.click_venv) \n"
     ]
    }
   ],
   "source": [
    "# create a virtual environment for this notepad\n",
    "python3 -m venv .click_venv\n",
    "source .click_venv/bin/activate\n",
    "pip install click"
   ]
  },
  {
   "cell_type": "code",
   "execution_count": 14,
   "metadata": {
    "vscode": {
     "languageId": "shellscript"
    }
   },
   "outputs": [
    {
     "name": "stdout",
     "output_type": "stream",
     "text": [
      "Usage: cli_tool.py [OPTIONS] COMMAND [ARGS]...\n",
      "\n",
      "  Your command line tool\n",
      "\n",
      "Options:\n",
      "  --help  Show this message and exit.\n",
      "\n",
      "Commands:\n",
      "  list-buckets  List buckets subcommand\n",
      "  login         Login subcommand\n",
      "  logout        Logout subcommand\n",
      "  show-bucket   Show bucket subcommand\n",
      "(.click_venv) \n"
     ]
    }
   ],
   "source": [
    "python cli_tool.py"
   ]
  },
  {
   "cell_type": "code",
   "execution_count": 15,
   "metadata": {
    "vscode": {
     "languageId": "shellscript"
    }
   },
   "outputs": [
    {
     "name": "stdout",
     "output_type": "stream",
     "text": [
      "Welcome to your CLI tool\n",
      "Usage: cli_tool.py login [OPTIONS]\n",
      "\n",
      "  Login subcommand\n",
      "\n",
      "Options:\n",
      "  --username TEXT  Your username\n",
      "  --password TEXT  Your password\n",
      "  --help           Show this message and exit.\n",
      "(.click_venv) \n"
     ]
    }
   ],
   "source": [
    "python cli_tool.py login --help"
   ]
  },
  {
   "cell_type": "code",
   "execution_count": 16,
   "metadata": {
    "vscode": {
     "languageId": "shellscript"
    }
   },
   "outputs": [
    {
     "name": "stdout",
     "output_type": "stream",
     "text": [
      "Welcome to your CLI tool\n",
      "Your available buckets are: Documents, Videos, Pictures\n",
      "(.click_venv) \n"
     ]
    }
   ],
   "source": [
    "python cli_tool.py list-buckets"
   ]
  },
  {
   "cell_type": "code",
   "execution_count": 17,
   "metadata": {
    "vscode": {
     "languageId": "shellscript"
    }
   },
   "outputs": [
    {
     "name": "stdout",
     "output_type": "stream",
     "text": [
      "Welcome to your CLI tool\n",
      "Showing bucket: a-bucket\n",
      "(.click_venv) \n"
     ]
    }
   ],
   "source": [
    "python cli_tool.py show-bucket a-bucket"
   ]
  },
  {
   "cell_type": "code",
   "execution_count": 22,
   "metadata": {
    "vscode": {
     "languageId": "shellscript"
    }
   },
   "outputs": [
    {
     "name": "stdout",
     "output_type": "stream",
     "text": [
      "Obtaining file:///Users/marcyervant/Documents/repositories/python-tutorial\n",
      "  Installing build dependencies ... \u001b[?25ldone\n",
      "\u001b[?25h  Checking if build backend supports build_editable ... \u001b[?25ldone\n",
      "\u001b[?25h  Getting requirements to build editable ... \u001b[?25ldone\n",
      "\u001b[?25h  Preparing editable metadata (pyproject.toml) ... \u001b[?25ldone\n",
      "\u001b[?25hRequirement already satisfied: Click in /Library/Frameworks/Python.framework/Versions/3.10/lib/python3.10/site-packages (from yourcli==0.0.1) (8.1.7)\n",
      "Building wheels for collected packages: yourcli\n",
      "  Building editable for yourcli (pyproject.toml) ... \u001b[?25ldone\n",
      "\u001b[?25h  Created wheel for yourcli: filename=yourcli-0.0.1-0.editable-py3-none-any.whl size=2897 sha256=3e059b656e906126829bc305361d4f1691afc8bf9e71554f04628cf191b45655\n",
      "  Stored in directory: /private/var/folders/hf/mz3wk6nd28s_0ztpqhm7swzc0000gn/T/pip-ephem-wheel-cache-9jat1ig0/wheels/7c/22/df/3b8065d720bdb5fc2152d4f40efe2d591eb56626474d187d40\n",
      "Successfully built yourcli\n",
      "Installing collected packages: yourcli\n",
      "  Attempting uninstall: yourcli\n",
      "    Found existing installation: yourcli 0.0.1\n",
      "    Uninstalling yourcli-0.0.1:\n",
      "      Successfully uninstalled yourcli-0.0.1\n",
      "Successfully installed yourcli-0.0.1\n"
     ]
    }
   ],
   "source": [
    "# install athe cli_tool package with setuptools and the setup.py file\n",
    "pip install --editable ."
   ]
  },
  {
   "cell_type": "code",
   "execution_count": 19,
   "metadata": {
    "vscode": {
     "languageId": "shellscript"
    }
   },
   "outputs": [
    {
     "name": "stdout",
     "output_type": "stream",
     "text": [
      "Usage: cli-tool [OPTIONS] COMMAND [ARGS]...\n",
      "\n",
      "  Your command line tool\n",
      "\n",
      "Options:\n",
      "  --help  Show this message and exit.\n",
      "\n",
      "Commands:\n",
      "  list-buckets  List buckets subcommand\n",
      "  login         Login subcommand\n",
      "  logout        Logout subcommand\n",
      "  show-bucket   Show bucket subcommand\n",
      "(.click_venv) \n"
     ]
    }
   ],
   "source": [
    "cli-tool"
   ]
  },
  {
   "cell_type": "code",
   "execution_count": 20,
   "metadata": {
    "vscode": {
     "languageId": "shellscript"
    }
   },
   "outputs": [
    {
     "name": "stdout",
     "output_type": "stream",
     "text": [
      "Welcome to your CLI tool\n",
      "Your available buckets are: Documents, Videos, Pictures\n",
      "(.click_venv) \n"
     ]
    }
   ],
   "source": [
    "cli-tool list-buckets"
   ]
  },
  {
   "cell_type": "code",
   "execution_count": 21,
   "metadata": {
    "vscode": {
     "languageId": "shellscript"
    }
   },
   "outputs": [
    {
     "name": "stdout",
     "output_type": "stream",
     "text": [
      "(.click_venv) \n"
     ]
    }
   ],
   "source": [
    "# clean up\n",
    "deactivate\n",
    "rm -r .click_venv"
   ]
  }
 ],
 "metadata": {
  "kernelspec": {
   "display_name": "Bash",
   "language": "bash",
   "name": "bash"
  },
  "language_info": {
   "codemirror_mode": "shell",
   "file_extension": ".sh",
   "mimetype": "text/x-sh",
   "name": "bash"
  }
 },
 "nbformat": 4,
 "nbformat_minor": 2
}
