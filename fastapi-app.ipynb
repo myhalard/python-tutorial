{
 "cells": [
  {
   "cell_type": "markdown",
   "metadata": {},
   "source": [
    "# FastAPI\n",
    "\n",
    "## Read the file fastapi-app.py\n",
    "\n",
    "## Open a terminal. Run the following commands:\n",
    "\n",
    "`python3 -m venv .fastapi_venv`\n",
    "\n",
    "`source .fastapi_venv/bin/activate`\n",
    "\n",
    "`pip install fastapi uvicorn`\n",
    "\n",
    "`python fastapi-app.py`"
   ]
  },
  {
   "cell_type": "code",
   "execution_count": 8,
   "metadata": {
    "vscode": {
     "languageId": "shellscript"
    }
   },
   "outputs": [
    {
     "name": "stdout",
     "output_type": "stream",
     "text": [
      "{\"service\":\"fastapi-app\",\"version\":\"0.0.1\"}\n"
     ]
    }
   ],
   "source": [
    "# GET /\n",
    "curl http://127.0.0.1:5000"
   ]
  },
  {
   "cell_type": "code",
   "execution_count": 9,
   "metadata": {
    "vscode": {
     "languageId": "shellscript"
    }
   },
   "outputs": [
    {
     "name": "stdout",
     "output_type": "stream",
     "text": [
      "{\"item_id\":42,\"item_name\":\"an item\"}\n"
     ]
    }
   ],
   "source": [
    "# GET /items/42\n",
    "curl http://127.0.0.1:5000/items/42"
   ]
  },
  {
   "cell_type": "code",
   "execution_count": 10,
   "metadata": {
    "vscode": {
     "languageId": "shellscript"
    }
   },
   "outputs": [
    {
     "name": "stdout",
     "output_type": "stream",
     "text": [
      "{\"item\":{\"key1\":\"value1\",\"key2\":\"value2\"},\"status\":\"created\"}\n"
     ]
    }
   ],
   "source": [
    "# POST /items\n",
    "curl -X POST -H \"Content-Type: application/json\" -d '{\"key1\":\"value1\", \"key2\":\"value2\"}' http://127.0.0.1:5000/items"
   ]
  },
  {
   "cell_type": "code",
   "execution_count": 11,
   "metadata": {
    "vscode": {
     "languageId": "shellscript"
    }
   },
   "outputs": [
    {
     "name": "stdout",
     "output_type": "stream",
     "text": [
      "{\"item_id\":42,\"item\":{\"key1\":\"value1\",\"key2\":\"value2\"},\"status\":\"updated\"}\n"
     ]
    }
   ],
   "source": [
    "# PUT /items/42\n",
    "curl -X PUT -H \"Content-Type: application/json\" -d '{\"key1\":\"value1\", \"key2\":\"value2\"}' http://127.0.0.1:5000/items/42"
   ]
  },
  {
   "cell_type": "code",
   "execution_count": 12,
   "metadata": {
    "vscode": {
     "languageId": "shellscript"
    }
   },
   "outputs": [
    {
     "name": "stdout",
     "output_type": "stream",
     "text": [
      "{\"item_id\":42,\"status\":\"deleted\"}\n"
     ]
    }
   ],
   "source": [
    "# DELETE /items/42\n",
    "curl -X DELETE http://127.0.0.1:5000/items/42"
   ]
  },
  {
   "cell_type": "markdown",
   "metadata": {},
   "source": [
    "## In the terminal hit Ctrl-C to stop the fastapi server\n",
    "\n",
    "## Run the following commands to cleanup:\n",
    "\n",
    "`deactivate`\n",
    "\n",
    "`rm -r .fastapi_venv`\n"
   ]
  }
 ],
 "metadata": {
  "kernelspec": {
   "display_name": "Bash",
   "language": "bash",
   "name": "bash"
  },
  "language_info": {
   "codemirror_mode": "shell",
   "file_extension": ".sh",
   "mimetype": "text/x-sh",
   "name": "bash"
  }
 },
 "nbformat": 4,
 "nbformat_minor": 2
}
